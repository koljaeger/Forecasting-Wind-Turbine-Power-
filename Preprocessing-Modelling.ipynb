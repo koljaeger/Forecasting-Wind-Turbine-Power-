{
  "cells": [
    {
      "cell_type": "code",
      "execution_count": 71,
      "metadata": {
        "id": "qGd3PTAiI_v0"
      },
      "outputs": [],
      "source": [
        "import pandas as pd\n",
        "import numpy as np\n",
        "import seaborn as sns\n",
        "import matplotlib.pyplot as plt\n",
        "import keras\n",
        "from sklearn.preprocessing import MinMaxScaler\n",
        "from sklearn.model_selection import RandomizedSearchCV, TimeSeriesSplit\n",
        "from sklearn.metrics import mean_squared_error, mean_absolute_error, r2_score\n",
        "from keras.layers import LSTM, Dense, Dropout\n",
        "from keras.callbacks import EarlyStopping"
      ]
    },
    {
      "cell_type": "code",
      "execution_count": 72,
      "metadata": {
        "id": "OQWppMm7I_v4"
      },
      "outputs": [
        {
          "data": {
            "text/html": [
              "<div>\n",
              "<style scoped>\n",
              "    .dataframe tbody tr th:only-of-type {\n",
              "        vertical-align: middle;\n",
              "    }\n",
              "\n",
              "    .dataframe tbody tr th {\n",
              "        vertical-align: top;\n",
              "    }\n",
              "\n",
              "    .dataframe thead th {\n",
              "        text-align: right;\n",
              "    }\n",
              "</style>\n",
              "<table border=\"1\" class=\"dataframe\">\n",
              "  <thead>\n",
              "    <tr style=\"text-align: right;\">\n",
              "      <th></th>\n",
              "      <th>Power</th>\n",
              "      <th>Wind_speed</th>\n",
              "      <th>Theoretical_power</th>\n",
              "      <th>Loss</th>\n",
              "      <th>x_com</th>\n",
              "      <th>y_com</th>\n",
              "      <th>T_1</th>\n",
              "    </tr>\n",
              "    <tr>\n",
              "      <th>Date/Time</th>\n",
              "      <th></th>\n",
              "      <th></th>\n",
              "      <th></th>\n",
              "      <th></th>\n",
              "      <th></th>\n",
              "      <th></th>\n",
              "      <th></th>\n",
              "    </tr>\n",
              "  </thead>\n",
              "  <tbody>\n",
              "    <tr>\n",
              "      <th>2018-01-01 01:00:00</th>\n",
              "      <td>460.537125</td>\n",
              "      <td>5.644205</td>\n",
              "      <td>513.418408</td>\n",
              "      <td>52.881284</td>\n",
              "      <td>-1.068567</td>\n",
              "      <td>-5.515860</td>\n",
              "      <td>390.480362</td>\n",
              "    </tr>\n",
              "    <tr>\n",
              "      <th>2018-01-01 02:00:00</th>\n",
              "      <td>733.655375</td>\n",
              "      <td>6.452037</td>\n",
              "      <td>788.401310</td>\n",
              "      <td>54.745935</td>\n",
              "      <td>-0.176225</td>\n",
              "      <td>-6.440522</td>\n",
              "      <td>460.537125</td>\n",
              "    </tr>\n",
              "    <tr>\n",
              "      <th>2018-01-01 03:00:00</th>\n",
              "      <td>909.362081</td>\n",
              "      <td>6.811455</td>\n",
              "      <td>948.793346</td>\n",
              "      <td>39.431265</td>\n",
              "      <td>-1.652917</td>\n",
              "      <td>-6.596464</td>\n",
              "      <td>733.655375</td>\n",
              "    </tr>\n",
              "    <tr>\n",
              "      <th>2018-01-01 04:00:00</th>\n",
              "      <td>1393.518188</td>\n",
              "      <td>7.748749</td>\n",
              "      <td>1406.391795</td>\n",
              "      <td>12.873607</td>\n",
              "      <td>-2.912491</td>\n",
              "      <td>-7.138868</td>\n",
              "      <td>909.362081</td>\n",
              "    </tr>\n",
              "    <tr>\n",
              "      <th>2018-01-01 05:00:00</th>\n",
              "      <td>1149.599162</td>\n",
              "      <td>7.236854</td>\n",
              "      <td>1128.194441</td>\n",
              "      <td>-21.404721</td>\n",
              "      <td>-3.170687</td>\n",
              "      <td>-6.478943</td>\n",
              "      <td>1393.518188</td>\n",
              "    </tr>\n",
              "  </tbody>\n",
              "</table>\n",
              "</div>"
            ],
            "text/plain": [
              "                           Power  Wind_speed  Theoretical_power       Loss  \\\n",
              "Date/Time                                                                    \n",
              "2018-01-01 01:00:00   460.537125    5.644205         513.418408  52.881284   \n",
              "2018-01-01 02:00:00   733.655375    6.452037         788.401310  54.745935   \n",
              "2018-01-01 03:00:00   909.362081    6.811455         948.793346  39.431265   \n",
              "2018-01-01 04:00:00  1393.518188    7.748749        1406.391795  12.873607   \n",
              "2018-01-01 05:00:00  1149.599162    7.236854        1128.194441 -21.404721   \n",
              "\n",
              "                        x_com     y_com          T_1  \n",
              "Date/Time                                             \n",
              "2018-01-01 01:00:00 -1.068567 -5.515860   390.480362  \n",
              "2018-01-01 02:00:00 -0.176225 -6.440522   460.537125  \n",
              "2018-01-01 03:00:00 -1.652917 -6.596464   733.655375  \n",
              "2018-01-01 04:00:00 -2.912491 -7.138868   909.362081  \n",
              "2018-01-01 05:00:00 -3.170687 -6.478943  1393.518188  "
            ]
          },
          "execution_count": 72,
          "metadata": {},
          "output_type": "execute_result"
        }
      ],
      "source": [
        "#read in data\n",
        "df = pd.read_csv('data/hourly_nm.csv',index_col='Date/Time')\n",
        "df.head()"
      ]
    },
    {
      "cell_type": "code",
      "execution_count": 73,
      "metadata": {
        "id": "xm8qobQHI_v5"
      },
      "outputs": [
        {
          "name": "stdout",
          "output_type": "stream",
          "text": [
            "<class 'pandas.core.frame.DataFrame'>\n",
            "Index: 8759 entries, 2018-01-01 01:00:00 to 2018-12-31 23:00:00\n",
            "Data columns (total 7 columns):\n",
            " #   Column             Non-Null Count  Dtype  \n",
            "---  ------             --------------  -----  \n",
            " 0   Power              8759 non-null   float64\n",
            " 1   Wind_speed         8759 non-null   float64\n",
            " 2   Theoretical_power  8759 non-null   float64\n",
            " 3   Loss               8759 non-null   float64\n",
            " 4   x_com              8759 non-null   float64\n",
            " 5   y_com              8759 non-null   float64\n",
            " 6   T_1                8759 non-null   float64\n",
            "dtypes: float64(7)\n",
            "memory usage: 547.4+ KB\n",
            "None\n",
            "\n",
            "             Power   Wind_speed  Theoretical_power         Loss        x_com  \\\n",
            "count  8759.000000  8759.000000        8759.000000  8759.000000  8759.000000   \n",
            "mean   1318.141216     7.463044        1477.300912   159.159695     0.425291   \n",
            "std    1272.154339     4.161819        1334.998877   316.032952     6.453773   \n",
            "min      -0.179522     0.000000           0.000000  -342.198605   -23.562965   \n",
            "25%     131.945762     4.157298         191.685944     6.803021    -2.339228   \n",
            "50%     887.976049     7.044580        1084.711233    70.070597     1.930152   \n",
            "75%    2413.847412    10.135154        2818.334982   185.948800     4.733412   \n",
            "max    3604.410034    23.746877        3600.000000  3239.191602    15.928531   \n",
            "\n",
            "             y_com          T_1  \n",
            "count  8759.000000  8759.000000  \n",
            "mean      2.132712  1317.887059  \n",
            "std       5.098658  1272.117264  \n",
            "min     -14.872894    -0.179522  \n",
            "25%      -1.661516   131.945762  \n",
            "50%       2.376810   887.463231  \n",
            "75%       5.838316  2412.657420  \n",
            "max      15.552038  3604.410034  \n"
          ]
        }
      ],
      "source": [
        "print(df.info())\n",
        "print()\n",
        "print(df.describe())"
      ]
    },
    {
      "cell_type": "code",
      "execution_count": 74,
      "metadata": {
        "id": "-a_LLjsTI_v6"
      },
      "outputs": [],
      "source": [
        "#split data into training and testing, testing data will be one month\n",
        "start_test = '2018-11-31'\n",
        "\n",
        "train, test = df.loc[:start_test], df.loc[start_test:]"
      ]
    },
    {
      "cell_type": "code",
      "execution_count": 75,
      "metadata": {
        "id": "AOky-SN3I_v7"
      },
      "outputs": [
        {
          "data": {
            "text/html": [
              "<div>\n",
              "<style scoped>\n",
              "    .dataframe tbody tr th:only-of-type {\n",
              "        vertical-align: middle;\n",
              "    }\n",
              "\n",
              "    .dataframe tbody tr th {\n",
              "        vertical-align: top;\n",
              "    }\n",
              "\n",
              "    .dataframe thead th {\n",
              "        text-align: right;\n",
              "    }\n",
              "</style>\n",
              "<table border=\"1\" class=\"dataframe\">\n",
              "  <thead>\n",
              "    <tr style=\"text-align: right;\">\n",
              "      <th></th>\n",
              "      <th>Power</th>\n",
              "      <th>Wind_speed</th>\n",
              "      <th>Theoretical_power</th>\n",
              "      <th>Loss</th>\n",
              "      <th>x_com</th>\n",
              "      <th>y_com</th>\n",
              "      <th>T_1</th>\n",
              "    </tr>\n",
              "    <tr>\n",
              "      <th>Date/Time</th>\n",
              "      <th></th>\n",
              "      <th></th>\n",
              "      <th></th>\n",
              "      <th></th>\n",
              "      <th></th>\n",
              "      <th></th>\n",
              "      <th></th>\n",
              "    </tr>\n",
              "  </thead>\n",
              "  <tbody>\n",
              "    <tr>\n",
              "      <th>2018-11-30 23:00:00</th>\n",
              "      <td>87.315742</td>\n",
              "      <td>5.643659</td>\n",
              "      <td>516.885226</td>\n",
              "      <td>429.569483</td>\n",
              "      <td>3.995407</td>\n",
              "      <td>3.978305</td>\n",
              "      <td>231.796605</td>\n",
              "    </tr>\n",
              "  </tbody>\n",
              "</table>\n",
              "</div>"
            ],
            "text/plain": [
              "                         Power  Wind_speed  Theoretical_power        Loss  \\\n",
              "Date/Time                                                                   \n",
              "2018-11-30 23:00:00  87.315742    5.643659         516.885226  429.569483   \n",
              "\n",
              "                        x_com     y_com         T_1  \n",
              "Date/Time                                            \n",
              "2018-11-30 23:00:00  3.995407  3.978305  231.796605  "
            ]
          },
          "execution_count": 75,
          "metadata": {},
          "output_type": "execute_result"
        }
      ],
      "source": [
        "train.tail(1)"
      ]
    },
    {
      "cell_type": "code",
      "execution_count": 76,
      "metadata": {
        "id": "bLpKxi65I_v8"
      },
      "outputs": [
        {
          "data": {
            "text/html": [
              "<div>\n",
              "<style scoped>\n",
              "    .dataframe tbody tr th:only-of-type {\n",
              "        vertical-align: middle;\n",
              "    }\n",
              "\n",
              "    .dataframe tbody tr th {\n",
              "        vertical-align: top;\n",
              "    }\n",
              "\n",
              "    .dataframe thead th {\n",
              "        text-align: right;\n",
              "    }\n",
              "</style>\n",
              "<table border=\"1\" class=\"dataframe\">\n",
              "  <thead>\n",
              "    <tr style=\"text-align: right;\">\n",
              "      <th></th>\n",
              "      <th>Power</th>\n",
              "      <th>Wind_speed</th>\n",
              "      <th>Theoretical_power</th>\n",
              "      <th>Loss</th>\n",
              "      <th>x_com</th>\n",
              "      <th>y_com</th>\n",
              "      <th>T_1</th>\n",
              "    </tr>\n",
              "    <tr>\n",
              "      <th>Date/Time</th>\n",
              "      <th></th>\n",
              "      <th></th>\n",
              "      <th></th>\n",
              "      <th></th>\n",
              "      <th></th>\n",
              "      <th></th>\n",
              "      <th></th>\n",
              "    </tr>\n",
              "  </thead>\n",
              "  <tbody>\n",
              "    <tr>\n",
              "      <th>2018-12-01 00:00:00</th>\n",
              "      <td>280.210704</td>\n",
              "      <td>4.57214</td>\n",
              "      <td>281.809039</td>\n",
              "      <td>1.598335</td>\n",
              "      <td>-2.893603</td>\n",
              "      <td>-3.518642</td>\n",
              "      <td>87.315742</td>\n",
              "    </tr>\n",
              "  </tbody>\n",
              "</table>\n",
              "</div>"
            ],
            "text/plain": [
              "                          Power  Wind_speed  Theoretical_power      Loss  \\\n",
              "Date/Time                                                                  \n",
              "2018-12-01 00:00:00  280.210704     4.57214         281.809039  1.598335   \n",
              "\n",
              "                        x_com     y_com        T_1  \n",
              "Date/Time                                           \n",
              "2018-12-01 00:00:00 -2.893603 -3.518642  87.315742  "
            ]
          },
          "execution_count": 76,
          "metadata": {},
          "output_type": "execute_result"
        }
      ],
      "source": [
        "test.head(1)"
      ]
    },
    {
      "cell_type": "code",
      "execution_count": 77,
      "metadata": {
        "id": "lXZnM5EqI_v-"
      },
      "outputs": [
        {
          "name": "stdout",
          "output_type": "stream",
          "text": [
            "8015\n",
            "744\n"
          ]
        }
      ],
      "source": [
        "print(len(train))\n",
        "print(len(test))"
      ]
    },
    {
      "cell_type": "code",
      "execution_count": 78,
      "metadata": {
        "id": "wQGD_5h3I_v-"
      },
      "outputs": [],
      "source": [
        "# scale the data using MinMax Scaler from -1 to 1 as LSTM has a default tanh activation function\n",
        "SCALER = MinMaxScaler(feature_range=(-1,1))\n",
        "\n",
        "scaler = SCALER.fit(train.to_numpy())\n",
        "\n",
        "train_scaled = scaler.transform(train.to_numpy())\n",
        "test_scaled = scaler.transform(test.to_numpy())"
      ]
    },
    {
      "cell_type": "code",
      "execution_count": 79,
      "metadata": {
        "id": "Puc4daWoI_v_"
      },
      "outputs": [],
      "source": [
        "# create a function to split the datasets into two week windows\n",
        "timestep = 24*7*2 # 24hours,7days,2weeks\n",
        "\n",
        "def create_dataset(dataset, timestep=timestep):\n",
        "    \"\"\"\n",
        "    Function which creates two week chunks of x_train data, and a single\n",
        "    value for y_train.\n",
        "    \"\"\"\n",
        "    X, y = [], []\n",
        "    for i in range(len(dataset)):\n",
        "        target_value = i + timestep\n",
        "        if target_value == len(dataset):\n",
        "            break\n",
        "        feature_chunk, target = dataset[i:target_value, 1:], dataset[target_value, 0]\n",
        "        X.append(feature_chunk)\n",
        "        y.append(target)\n",
        "\n",
        "    return np.array(X), np.array(y)"
      ]
    },
    {
      "cell_type": "code",
      "execution_count": 80,
      "metadata": {
        "id": "f-yBJ8sCI_v_"
      },
      "outputs": [],
      "source": [
        "#create x_train, y_train, X_test,y_test\n",
        "X_train, y_train = create_dataset(train_scaled)\n",
        "X_test, y_test = create_dataset(test_scaled)"
      ]
    },
    {
      "cell_type": "code",
      "execution_count": 81,
      "metadata": {
        "id": "gBvPR0qaI_wA"
      },
      "outputs": [
        {
          "name": "stdout",
          "output_type": "stream",
          "text": [
            "(7679, 336, 6)\n",
            "(7679,)\n",
            "(408, 336, 6)\n",
            "(408,)\n"
          ]
        }
      ],
      "source": [
        "print(X_train.shape)\n",
        "print(y_train.shape)\n",
        "print(X_test.shape)\n",
        "print(y_test.shape)"
      ]
    },
    {
      "cell_type": "code",
      "execution_count": 82,
      "metadata": {
        "id": "A4eyoHP0I_wB"
      },
      "outputs": [],
      "source": [
        "# use sample of th data to train network to have a rough understanding of hyperparameters\n",
        "samp_len = int(len(X_train)*0.5)\n",
        "\n",
        "X_sample_train, y_sample_train = X_train[:samp_len], y_train[:samp_len]"
      ]
    },
    {
      "cell_type": "code",
      "execution_count": 83,
      "metadata": {
        "id": "gVQ0FcXHI_wB"
      },
      "outputs": [
        {
          "name": "stdout",
          "output_type": "stream",
          "text": [
            "(3839, 336, 6)\n",
            "(3839,)\n"
          ]
        }
      ],
      "source": [
        "print(X_sample_train.shape)\n",
        "print(y_sample_train.shape)"
      ]
    },
    {
      "cell_type": "code",
      "execution_count": 84,
      "metadata": {
        "id": "ewGKAiX_I_wB"
      },
      "outputs": [],
      "source": [
        "# create X_train, y_train, X_test, y_test datasets\n",
        "# create a function to build a stacked LSTM model\n",
        "# input needs to be [samples, timesteps, features]\n",
        "def create_model(X_train, y_train):\n",
        "    units = 32\n",
        "    dropout = 0.05\n",
        "    epochs = 35\n",
        "    batch_size = 14\n",
        "    optimizer = keras.optimizers.Adam(learning_rate=0.0005)\n",
        "    early_stopping = EarlyStopping(patience=7, monitor='loss')\n",
        "\n",
        "    model = keras.Sequential()\n",
        "\n",
        "    #model.add(LSTM(units=units, dropout=dropout, return_sequences=True, input_shape=(X_train.shape[1], X_train.shape[2])))\n",
        "    #model.add(LSTM(units=units, dropout=dropout))\n",
        "\n",
        "    # let's try a simple MLP instead LSTM:\n",
        "    model.add(Dense(units=32, activation='relu'))\n",
        "    model.add(Dense(units=32, activation='relu'))\n",
        "\n",
        "    model.add(Dense(units=1))\n",
        "\n",
        "    model.compile(optimizer=optimizer, loss='mean_squared_error')\n",
        "    history = model.fit(X_train, y_train, validation_split=0.3, shuffle=False,\n",
        "              epochs=epochs, batch_size=batch_size, verbose=1, callbacks=[early_stopping])\n",
        "\n",
        "    return model, history"
      ]
    },
    {
      "cell_type": "code",
      "execution_count": 85,
      "metadata": {
        "id": "nBXLvFQlI_wC"
      },
      "outputs": [],
      "source": [
        "# function to predict a single value\n",
        "def single_prediction(model, history, timestep=timestep):\n",
        "\n",
        "        history = np.array(history)\n",
        "        history = history.reshape(history.shape[0]*history.shape[1], history.shape[2])\n",
        "\n",
        "        input_value = history[-timestep:]\n",
        "        input_value = input_value.reshape(1, input_value.shape[0], input_value.shape[1])\n",
        "\n",
        "        yhat = model.predict(input_value, verbose=0)\n",
        "        return yhat"
      ]
    },
    {
      "cell_type": "code",
      "execution_count": 86,
      "metadata": {
        "id": "foLOWvbPI_wC"
      },
      "outputs": [],
      "source": [
        "# function which takes first test chunk, makes a prediction, add the test chunk back into training data\n",
        "#to make next prediction\n",
        "\n",
        "def walk_forward_prediction(X_train, y_train, X_test, timestep):\n",
        "\n",
        "    MODEL, history = create_model(X_train=X_train, y_train=y_train)\n",
        "    hist_train = [i for i in X_train]\n",
        "    predictions = []\n",
        "\n",
        "    for i in range(len(X_test)):\n",
        "        test = X_test[i]\n",
        "        yhat = single_prediction(model=MODEL, history=hist_train, timestep=timestep)\n",
        "        predictions.append(yhat)\n",
        "        hist_train.append(test)\n",
        "\n",
        "    return predictions, history, MODEL"
      ]
    },
    {
      "cell_type": "code",
      "execution_count": 87,
      "metadata": {
        "id": "_W07VraBI_wC"
      },
      "outputs": [],
      "source": [
        "def prior_inverse(features, targets):\n",
        "    '''\n",
        "    Append prediction value to test dataset and return a test shape format.\n",
        "    '''\n",
        "    dataset = []\n",
        "\n",
        "    for i in range(features.shape[0]):\n",
        "        last_row, target = features[i][0], targets[i]\n",
        "        appended = np.append(last_row, target)\n",
        "        dataset.append(appended)\n",
        "\n",
        "    return np.array(dataset)"
      ]
    },
    {
      "cell_type": "code",
      "execution_count": 88,
      "metadata": {
        "id": "QOAWxRIKI_wD",
        "scrolled": true
      },
      "outputs": [],
      "source": [
        "#run experiemnt returning the real, predicted values\n",
        "def experiment(X_train, y_train, X_test, timestep):\n",
        "\n",
        "    pred_seq, history, MODEL = walk_forward_prediction(X_train, y_train, X_test, timestep)\n",
        "\n",
        "    pred_seq = np.array(pred_seq).reshape(-1)\n",
        "\n",
        "    pred = prior_inverse(X_test, pred_seq)\n",
        "    real = prior_inverse(X_test, y_test)\n",
        "\n",
        "    inv_pred = scaler.inverse_transform(pred)\n",
        "    inv_real = scaler.inverse_transform(real)\n",
        "\n",
        "    power_pred = inv_pred[:,-1]\n",
        "    power_real = inv_real[:,-1]\n",
        "\n",
        "    return power_real, power_pred, history, MODEL"
      ]
    },
    {
      "cell_type": "code",
      "execution_count": 89,
      "metadata": {
        "id": "UF28GZy8I_wD",
        "scrolled": true
      },
      "outputs": [
        {
          "name": "stdout",
          "output_type": "stream",
          "text": [
            "Epoch 1/35\n",
            "384/384 [==============================] - 28s 70ms/step - loss: 0.5062 - val_loss: 0.5256\n",
            "Epoch 2/35\n",
            "384/384 [==============================] - 26s 69ms/step - loss: 0.4943 - val_loss: 0.5280\n",
            "Epoch 3/35\n",
            "384/384 [==============================] - 27s 69ms/step - loss: 0.4934 - val_loss: 0.5289\n",
            "Epoch 4/35\n",
            "384/384 [==============================] - 27s 70ms/step - loss: 0.4926 - val_loss: 0.5292\n",
            "Epoch 5/35\n",
            "384/384 [==============================] - 27s 70ms/step - loss: 0.4920 - val_loss: 0.5286\n",
            "Epoch 6/35\n",
            "384/384 [==============================] - 28s 72ms/step - loss: 0.4915 - val_loss: 0.5288\n",
            "Epoch 7/35\n",
            "384/384 [==============================] - 28s 72ms/step - loss: 0.4911 - val_loss: 0.5288\n",
            "Epoch 8/35\n",
            "384/384 [==============================] - 27s 70ms/step - loss: 0.4909 - val_loss: 0.5289\n",
            "Epoch 9/35\n",
            "384/384 [==============================] - 27s 71ms/step - loss: 0.4906 - val_loss: 0.5288\n",
            "Epoch 10/35\n",
            "384/384 [==============================] - 26s 68ms/step - loss: 0.4904 - val_loss: 0.5287\n",
            "Epoch 11/35\n",
            "384/384 [==============================] - 27s 71ms/step - loss: 0.4902 - val_loss: 0.5286\n",
            "Epoch 12/35\n",
            "384/384 [==============================] - 27s 70ms/step - loss: 0.4900 - val_loss: 0.5283\n",
            "Epoch 13/35\n",
            "384/384 [==============================] - 27s 70ms/step - loss: 0.4898 - val_loss: 0.5280\n",
            "Epoch 14/35\n",
            "384/384 [==============================] - 29s 74ms/step - loss: 0.4895 - val_loss: 0.5278\n",
            "Epoch 15/35\n",
            "384/384 [==============================] - 27s 72ms/step - loss: 0.4893 - val_loss: 0.5277\n",
            "Epoch 16/35\n",
            "384/384 [==============================] - 27s 71ms/step - loss: 0.4891 - val_loss: 0.5275\n",
            "Epoch 17/35\n",
            "384/384 [==============================] - 26s 67ms/step - loss: 0.4890 - val_loss: 0.5275\n",
            "Epoch 18/35\n",
            "384/384 [==============================] - 26s 69ms/step - loss: 0.4888 - val_loss: 0.5273\n",
            "Epoch 19/35\n",
            "384/384 [==============================] - 27s 69ms/step - loss: 0.4887 - val_loss: 0.5273\n",
            "Epoch 20/35\n",
            "384/384 [==============================] - 27s 70ms/step - loss: 0.4886 - val_loss: 0.5272\n",
            "Epoch 21/35\n",
            "384/384 [==============================] - 28s 73ms/step - loss: 0.4885 - val_loss: 0.5271\n",
            "Epoch 22/35\n",
            "384/384 [==============================] - 27s 70ms/step - loss: 0.4884 - val_loss: 0.5270\n",
            "Epoch 23/35\n",
            "384/384 [==============================] - 26s 68ms/step - loss: 0.4883 - val_loss: 0.5270\n",
            "Epoch 24/35\n",
            "384/384 [==============================] - 26s 69ms/step - loss: 0.4882 - val_loss: 0.5270\n",
            "Epoch 25/35\n",
            "384/384 [==============================] - 28s 72ms/step - loss: 0.4881 - val_loss: 0.5270\n",
            "Epoch 26/35\n",
            "384/384 [==============================] - 28s 73ms/step - loss: 0.4880 - val_loss: 0.5269\n",
            "Epoch 27/35\n",
            "384/384 [==============================] - 27s 70ms/step - loss: 0.4879 - val_loss: 0.5269\n",
            "Epoch 28/35\n",
            "384/384 [==============================] - 27s 69ms/step - loss: 0.4878 - val_loss: 0.5268\n",
            "Epoch 29/35\n",
            "384/384 [==============================] - 27s 70ms/step - loss: 0.4877 - val_loss: 0.5267\n",
            "Epoch 30/35\n",
            "384/384 [==============================] - 27s 71ms/step - loss: 0.4877 - val_loss: 0.5266\n",
            "Epoch 31/35\n",
            "384/384 [==============================] - 30s 78ms/step - loss: 0.4876 - val_loss: 0.5266\n",
            "Epoch 32/35\n",
            "384/384 [==============================] - 28s 73ms/step - loss: 0.4875 - val_loss: 0.5265\n",
            "Epoch 33/35\n",
            "384/384 [==============================] - 27s 71ms/step - loss: 0.4874 - val_loss: 0.5264\n",
            "Epoch 34/35\n",
            "384/384 [==============================] - 26s 69ms/step - loss: 0.4873 - val_loss: 0.5263\n",
            "Epoch 35/35\n",
            "384/384 [==============================] - 27s 70ms/step - loss: 0.4873 - val_loss: 0.5263\n"
          ]
        }
      ],
      "source": [
        "power_real, power_pred, history, MODEL = experiment(X_train, y_train, X_test, timestep)\n",
        "\n",
        "loss = history.history['loss']\n",
        "val_loss = history.history['val_loss']"
      ]
    },
    {
      "cell_type": "code",
      "execution_count": 90,
      "metadata": {
        "id": "rSNsCegqI_wE"
      },
      "outputs": [
        {
          "data": {
            "image/png": "[encoded data removed]",
            "text/plain": [
              "<Figure size 1000x500 with 1 Axes>"
            ]
          },
          "metadata": {},
          "output_type": "display_data"
        }
      ],
      "source": [
        "#plot validation and training convergence graph\n",
        "plt.figure(figsize=(10,5))\n",
        "plt.plot(loss, label='train')\n",
        "plt.plot(val_loss, label='validation')\n",
        "plt.legend()\n",
        "plt.xlabel('epochs')\n",
        "plt.ylabel('MSE')\n",
        "plt.title('Training Validation Loss')\n",
        "plt.tight_layout()\n",
        "plt.savefig('figures/MLP_train_val_plot.png')\n",
        "plt.show()"
      ]
    },
    {
      "cell_type": "code",
      "execution_count": 91,
      "metadata": {
        "id": "Nd7WUKh3I_wF"
      },
      "outputs": [],
      "source": [
        "x_plot = test[timestep:].index\n",
        "pred_df = pd.DataFrame({'Date':x_plot, 'Prediction': power_pred, 'True': power_real})\n",
        "pred_df.set_index('Date', inplace=True)"
      ]
    },
    {
      "cell_type": "code",
      "execution_count": 92,
      "metadata": {
        "id": "gJN3CuSPI_wF"
      },
      "outputs": [],
      "source": [
        "pred_df2 = pred_df['2018-12-15 01:00:00\t':'2018-12-29 02:00:00 ']"
      ]
    },
    {
      "cell_type": "code",
      "execution_count": 93,
      "metadata": {
        "id": "WooL7izkI_wF"
      },
      "outputs": [
        {
          "data": {
            "image/png": "[encoded data removed]",
            "text/plain": [
              "<Figure size 1000x500 with 1 Axes>"
            ]
          },
          "metadata": {},
          "output_type": "display_data"
        }
      ],
      "source": [
        "#plot predictions\n",
        "pred_df2.plot(figsize=(10,5))\n",
        "plt.title('Predicted Power vs Actual Power with MLP an Model.')\n",
        "plt.ylabel('Power(KWh)')\n",
        "plt.tight_layout()\n",
        "plt.savefig('figures/MLP_prediction.png')\n",
        "plt.show()"
      ]
    },
    {
      "cell_type": "code",
      "execution_count": 94,
      "metadata": {
        "id": "MPW7iJRaI_wG"
      },
      "outputs": [
        {
          "name": "stdout",
          "output_type": "stream",
          "text": [
            "RMSE: 1345.8\n",
            "MAE: 1190.37\n",
            "R2: 0.02\n"
          ]
        }
      ],
      "source": [
        "#compute metrics\n",
        "rmse = np.sqrt(mean_squared_error(pred_df2['True'], pred_df2['Prediction']))\n",
        "mae = mean_absolute_error(pred_df2['True'], pred_df2['Prediction'])\n",
        "r2 = r2_score(pred_df2['True'], pred_df2['Prediction'])\n",
        "print('RMSE: {}\\nMAE: {}\\nR2: {}'.format(round(rmse,2),round(mae,2), round(r2,2)))"
      ]
    }
  ],
  "metadata": {
    "colab": {
      "provenance": []
    },
    "kernelspec": {
      "display_name": "Python 3",
      "language": "python",
      "name": "python3"
    },
    "language_info": {
      "codemirror_mode": {
        "name": "ipython",
        "version": 3
      },
      "file_extension": ".py",
      "mimetype": "text/x-python",
      "name": "python",
      "nbconvert_exporter": "python",
      "pygments_lexer": "ipython3",
      "version": "3.10.12"
    }
  },
  "nbformat": 4,
  "nbformat_minor": 0
}
