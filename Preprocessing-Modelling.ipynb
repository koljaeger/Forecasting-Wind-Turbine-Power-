{
  "cells": [
    {
      "cell_type": "code",
      "execution_count": 43,
      "metadata": {
        "id": "qGd3PTAiI_v0"
      },
      "outputs": [],
      "source": [
        "import pandas as pd\n",
        "import numpy as np\n",
        "import seaborn as sns\n",
        "import matplotlib.pyplot as plt\n",
        "import keras\n",
        "from sklearn.preprocessing import MinMaxScaler\n",
        "from sklearn.model_selection import RandomizedSearchCV, TimeSeriesSplit\n",
        "from sklearn.metrics import mean_squared_error, mean_absolute_error, r2_score\n",
        "from keras.layers import LSTM, Dense, Dropout, GRU\n",
        "from keras.callbacks import EarlyStopping"
      ]
    },
    {
      "cell_type": "code",
      "execution_count": 44,
      "metadata": {
        "colab": {
          "base_uri": "https://localhost:8080/",
          "height": 238
        },
        "id": "OQWppMm7I_v4",
        "outputId": "065b7bb8-cb8e-4428-936c-7d03d95c435d"
      },
      "outputs": [
        {
          "output_type": "execute_result",
          "data": {
            "text/plain": [
              "                           Power  Wind_speed  Theoretical_power       Loss  \\\n",
              "Date/Time                                                                    \n",
              "2018-01-01 01:00:00   460.537125    5.644205         513.418408  52.881284   \n",
              "2018-01-01 02:00:00   733.655375    6.452037         788.401310  54.745935   \n",
              "2018-01-01 03:00:00   909.362081    6.811455         948.793346  39.431265   \n",
              "2018-01-01 04:00:00  1393.518188    7.748749        1406.391795  12.873607   \n",
              "2018-01-01 05:00:00  1149.599162    7.236854        1128.194441 -21.404721   \n",
              "\n",
              "                        x_com     y_com          T_1  \n",
              "Date/Time                                             \n",
              "2018-01-01 01:00:00 -1.068567 -5.515860   390.480362  \n",
              "2018-01-01 02:00:00 -0.176225 -6.440522   460.537125  \n",
              "2018-01-01 03:00:00 -1.652917 -6.596464   733.655375  \n",
              "2018-01-01 04:00:00 -2.912491 -7.138868   909.362081  \n",
              "2018-01-01 05:00:00 -3.170687 -6.478943  1393.518188  "
            ],
            "text/html": [
              "\n",
              "  <div id=\"df-711bc46f-4d5e-45d7-b4be-00ac7c9c5df4\" class=\"colab-df-container\">\n",
              "    <div>\n",
              "<style scoped>\n",
              "    .dataframe tbody tr th:only-of-type {\n",
              "        vertical-align: middle;\n",
              "    }\n",
              "\n",
              "    .dataframe tbody tr th {\n",
              "        vertical-align: top;\n",
              "    }\n",
              "\n",
              "    .dataframe thead th {\n",
              "        text-align: right;\n",
              "    }\n",
              "</style>\n",
              "<table border=\"1\" class=\"dataframe\">\n",
              "  <thead>\n",
              "    <tr style=\"text-align: right;\">\n",
              "      <th></th>\n",
              "      <th>Power</th>\n",
              "      <th>Wind_speed</th>\n",
              "      <th>Theoretical_power</th>\n",
              "      <th>Loss</th>\n",
              "      <th>x_com</th>\n",
              "      <th>y_com</th>\n",
              "      <th>T_1</th>\n",
              "    </tr>\n",
              "    <tr>\n",
              "      <th>Date/Time</th>\n",
              "      <th></th>\n",
              "      <th></th>\n",
              "      <th></th>\n",
              "      <th></th>\n",
              "      <th></th>\n",
              "      <th></th>\n",
              "      <th></th>\n",
              "    </tr>\n",
              "  </thead>\n",
              "  <tbody>\n",
              "    <tr>\n",
              "      <th>2018-01-01 01:00:00</th>\n",
              "      <td>460.537125</td>\n",
              "      <td>5.644205</td>\n",
              "      <td>513.418408</td>\n",
              "      <td>52.881284</td>\n",
              "      <td>-1.068567</td>\n",
              "      <td>-5.515860</td>\n",
              "      <td>390.480362</td>\n",
              "    </tr>\n",
              "    <tr>\n",
              "      <th>2018-01-01 02:00:00</th>\n",
              "      <td>733.655375</td>\n",
              "      <td>6.452037</td>\n",
              "      <td>788.401310</td>\n",
              "      <td>54.745935</td>\n",
              "      <td>-0.176225</td>\n",
              "      <td>-6.440522</td>\n",
              "      <td>460.537125</td>\n",
              "    </tr>\n",
              "    <tr>\n",
              "      <th>2018-01-01 03:00:00</th>\n",
              "      <td>909.362081</td>\n",
              "      <td>6.811455</td>\n",
              "      <td>948.793346</td>\n",
              "      <td>39.431265</td>\n",
              "      <td>-1.652917</td>\n",
              "      <td>-6.596464</td>\n",
              "      <td>733.655375</td>\n",
              "    </tr>\n",
              "    <tr>\n",
              "      <th>2018-01-01 04:00:00</th>\n",
              "      <td>1393.518188</td>\n",
              "      <td>7.748749</td>\n",
              "      <td>1406.391795</td>\n",
              "      <td>12.873607</td>\n",
              "      <td>-2.912491</td>\n",
              "      <td>-7.138868</td>\n",
              "      <td>909.362081</td>\n",
              "    </tr>\n",
              "    <tr>\n",
              "      <th>2018-01-01 05:00:00</th>\n",
              "      <td>1149.599162</td>\n",
              "      <td>7.236854</td>\n",
              "      <td>1128.194441</td>\n",
              "      <td>-21.404721</td>\n",
              "      <td>-3.170687</td>\n",
              "      <td>-6.478943</td>\n",
              "      <td>1393.518188</td>\n",
              "    </tr>\n",
              "  </tbody>\n",
              "</table>\n",
              "</div>\n",
              "    <div class=\"colab-df-buttons\">\n",
              "\n",
              "  <div class=\"colab-df-container\">\n",
              "    <button class=\"colab-df-convert\" onclick=\"convertToInteractive('df-711bc46f-4d5e-45d7-b4be-00ac7c9c5df4')\"\n",
              "            title=\"Convert this dataframe to an interactive table.\"\n",
              "            style=\"display:none;\">\n",
              "\n",
              "  <svg xmlns=\"http://www.w3.org/2000/svg\" height=\"24px\" viewBox=\"0 -960 960 960\">\n",
              "    <path d=\"M120-120v-720h720v720H120Zm60-500h600v-160H180v160Zm220 220h160v-160H400v160Zm0 220h160v-160H400v160ZM180-400h160v-160H180v160Zm440 0h160v-160H620v160ZM180-180h160v-160H180v160Zm440 0h160v-160H620v160Z\"/>\n",
              "  </svg>\n",
              "    </button>\n",
              "\n",
              "  <style>\n",
              "    .colab-df-container {\n",
              "      display:flex;\n",
              "      gap: 12px;\n",
              "    }\n",
              "\n",
              "    .colab-df-convert {\n",
              "      background-color: #E8F0FE;\n",
              "      border: none;\n",
              "      border-radius: 50%;\n",
              "      cursor: pointer;\n",
              "      display: none;\n",
              "      fill: #1967D2;\n",
              "      height: 32px;\n",
              "      padding: 0 0 0 0;\n",
              "      width: 32px;\n",
              "    }\n",
              "\n",
              "    .colab-df-convert:hover {\n",
              "      background-color: #E2EBFA;\n",
              "      box-shadow: 0px 1px 2px rgba(60, 64, 67, 0.3), 0px 1px 3px 1px rgba(60, 64, 67, 0.15);\n",
              "      fill: #174EA6;\n",
              "    }\n",
              "\n",
              "    .colab-df-buttons div {\n",
              "      margin-bottom: 4px;\n",
              "    }\n",
              "\n",
              "    [theme=dark] .colab-df-convert {\n",
              "      background-color: #3B4455;\n",
              "      fill: #D2E3FC;\n",
              "    }\n",
              "\n",
              "    [theme=dark] .colab-df-convert:hover {\n",
              "      background-color: #434B5C;\n",
              "      box-shadow: 0px 1px 3px 1px rgba(0, 0, 0, 0.15);\n",
              "      filter: drop-shadow(0px 1px 2px rgba(0, 0, 0, 0.3));\n",
              "      fill: #FFFFFF;\n",
              "    }\n",
              "  </style>\n",
              "\n",
              "    <script>\n",
              "      const buttonEl =\n",
              "        document.querySelector('#df-711bc46f-4d5e-45d7-b4be-00ac7c9c5df4 button.colab-df-convert');\n",
              "      buttonEl.style.display =\n",
              "        google.colab.kernel.accessAllowed ? 'block' : 'none';\n",
              "\n",
              "      async function convertToInteractive(key) {\n",
              "        const element = document.querySelector('#df-711bc46f-4d5e-45d7-b4be-00ac7c9c5df4');\n",
              "        const dataTable =\n",
              "          await google.colab.kernel.invokeFunction('convertToInteractive',\n",
              "                                                    [key], {});\n",
              "        if (!dataTable) return;\n",
              "\n",
              "        const docLinkHtml = 'Like what you see? Visit the ' +\n",
              "          '<a target=\"_blank\" href=https://colab.research.google.com/notebooks/data_table.ipynb>data table notebook</a>'\n",
              "          + ' to learn more about interactive tables.';\n",
              "        element.innerHTML = '';\n",
              "        dataTable['output_type'] = 'display_data';\n",
              "        await google.colab.output.renderOutput(dataTable, element);\n",
              "        const docLink = document.createElement('div');\n",
              "        docLink.innerHTML = docLinkHtml;\n",
              "        element.appendChild(docLink);\n",
              "      }\n",
              "    </script>\n",
              "  </div>\n",
              "\n",
              "\n",
              "<div id=\"df-56717f95-195e-4b2d-99bb-0f5fb32dc70c\">\n",
              "  <button class=\"colab-df-quickchart\" onclick=\"quickchart('df-56717f95-195e-4b2d-99bb-0f5fb32dc70c')\"\n",
              "            title=\"Suggest charts.\"\n",
              "            style=\"display:none;\">\n",
              "\n",
              "<svg xmlns=\"http://www.w3.org/2000/svg\" height=\"24px\"viewBox=\"0 0 24 24\"\n",
              "     width=\"24px\">\n",
              "    <g>\n",
              "        <path d=\"M19 3H5c-1.1 0-2 .9-2 2v14c0 1.1.9 2 2 2h14c1.1 0 2-.9 2-2V5c0-1.1-.9-2-2-2zM9 17H7v-7h2v7zm4 0h-2V7h2v10zm4 0h-2v-4h2v4z\"/>\n",
              "    </g>\n",
              "</svg>\n",
              "  </button>\n",
              "\n",
              "<style>\n",
              "  .colab-df-quickchart {\n",
              "      --bg-color: #E8F0FE;\n",
              "      --fill-color: #1967D2;\n",
              "      --hover-bg-color: #E2EBFA;\n",
              "      --hover-fill-color: #174EA6;\n",
              "      --disabled-fill-color: #AAA;\n",
              "      --disabled-bg-color: #DDD;\n",
              "  }\n",
              "\n",
              "  [theme=dark] .colab-df-quickchart {\n",
              "      --bg-color: #3B4455;\n",
              "      --fill-color: #D2E3FC;\n",
              "      --hover-bg-color: #434B5C;\n",
              "      --hover-fill-color: #FFFFFF;\n",
              "      --disabled-bg-color: #3B4455;\n",
              "      --disabled-fill-color: #666;\n",
              "  }\n",
              "\n",
              "  .colab-df-quickchart {\n",
              "    background-color: var(--bg-color);\n",
              "    border: none;\n",
              "    border-radius: 50%;\n",
              "    cursor: pointer;\n",
              "    display: none;\n",
              "    fill: var(--fill-color);\n",
              "    height: 32px;\n",
              "    padding: 0;\n",
              "    width: 32px;\n",
              "  }\n",
              "\n",
              "  .colab-df-quickchart:hover {\n",
              "    background-color: var(--hover-bg-color);\n",
              "    box-shadow: 0 1px 2px rgba(60, 64, 67, 0.3), 0 1px 3px 1px rgba(60, 64, 67, 0.15);\n",
              "    fill: var(--button-hover-fill-color);\n",
              "  }\n",
              "\n",
              "  .colab-df-quickchart-complete:disabled,\n",
              "  .colab-df-quickchart-complete:disabled:hover {\n",
              "    background-color: var(--disabled-bg-color);\n",
              "    fill: var(--disabled-fill-color);\n",
              "    box-shadow: none;\n",
              "  }\n",
              "\n",
              "  .colab-df-spinner {\n",
              "    border: 2px solid var(--fill-color);\n",
              "    border-color: transparent;\n",
              "    border-bottom-color: var(--fill-color);\n",
              "    animation:\n",
              "      spin 1s steps(1) infinite;\n",
              "  }\n",
              "\n",
              "  @keyframes spin {\n",
              "    0% {\n",
              "      border-color: transparent;\n",
              "      border-bottom-color: var(--fill-color);\n",
              "      border-left-color: var(--fill-color);\n",
              "    }\n",
              "    20% {\n",
              "      border-color: transparent;\n",
              "      border-left-color: var(--fill-color);\n",
              "      border-top-color: var(--fill-color);\n",
              "    }\n",
              "    30% {\n",
              "      border-color: transparent;\n",
              "      border-left-color: var(--fill-color);\n",
              "      border-top-color: var(--fill-color);\n",
              "      border-right-color: var(--fill-color);\n",
              "    }\n",
              "    40% {\n",
              "      border-color: transparent;\n",
              "      border-right-color: var(--fill-color);\n",
              "      border-top-color: var(--fill-color);\n",
              "    }\n",
              "    60% {\n",
              "      border-color: transparent;\n",
              "      border-right-color: var(--fill-color);\n",
              "    }\n",
              "    80% {\n",
              "      border-color: transparent;\n",
              "      border-right-color: var(--fill-color);\n",
              "      border-bottom-color: var(--fill-color);\n",
              "    }\n",
              "    90% {\n",
              "      border-color: transparent;\n",
              "      border-bottom-color: var(--fill-color);\n",
              "    }\n",
              "  }\n",
              "</style>\n",
              "\n",
              "  <script>\n",
              "    async function quickchart(key) {\n",
              "      const quickchartButtonEl =\n",
              "        document.querySelector('#' + key + ' button');\n",
              "      quickchartButtonEl.disabled = true;  // To prevent multiple clicks.\n",
              "      quickchartButtonEl.classList.add('colab-df-spinner');\n",
              "      try {\n",
              "        const charts = await google.colab.kernel.invokeFunction(\n",
              "            'suggestCharts', [key], {});\n",
              "      } catch (error) {\n",
              "        console.error('Error during call to suggestCharts:', error);\n",
              "      }\n",
              "      quickchartButtonEl.classList.remove('colab-df-spinner');\n",
              "      quickchartButtonEl.classList.add('colab-df-quickchart-complete');\n",
              "    }\n",
              "    (() => {\n",
              "      let quickchartButtonEl =\n",
              "        document.querySelector('#df-56717f95-195e-4b2d-99bb-0f5fb32dc70c button');\n",
              "      quickchartButtonEl.style.display =\n",
              "        google.colab.kernel.accessAllowed ? 'block' : 'none';\n",
              "    })();\n",
              "  </script>\n",
              "</div>\n",
              "    </div>\n",
              "  </div>\n"
            ]
          },
          "metadata": {},
          "execution_count": 44
        }
      ],
      "source": [
        "#read in data\n",
        "df = pd.read_csv('data/hourly_nm.csv',index_col='Date/Time')\n",
        "df.head()"
      ]
    },
    {
      "cell_type": "code",
      "execution_count": 45,
      "metadata": {
        "colab": {
          "base_uri": "https://localhost:8080/"
        },
        "id": "xm8qobQHI_v5",
        "outputId": "c91ffbc9-997b-4468-de0c-19c108bdea0d"
      },
      "outputs": [
        {
          "output_type": "stream",
          "name": "stdout",
          "text": [
            "<class 'pandas.core.frame.DataFrame'>\n",
            "Index: 8759 entries, 2018-01-01 01:00:00 to 2018-12-31 23:00:00\n",
            "Data columns (total 7 columns):\n",
            " #   Column             Non-Null Count  Dtype  \n",
            "---  ------             --------------  -----  \n",
            " 0   Power              8759 non-null   float64\n",
            " 1   Wind_speed         8759 non-null   float64\n",
            " 2   Theoretical_power  8759 non-null   float64\n",
            " 3   Loss               8759 non-null   float64\n",
            " 4   x_com              8759 non-null   float64\n",
            " 5   y_com              8759 non-null   float64\n",
            " 6   T_1                8759 non-null   float64\n",
            "dtypes: float64(7)\n",
            "memory usage: 547.4+ KB\n",
            "None\n",
            "\n",
            "             Power   Wind_speed  Theoretical_power         Loss        x_com  \\\n",
            "count  8759.000000  8759.000000        8759.000000  8759.000000  8759.000000   \n",
            "mean   1318.141216     7.463044        1477.300912   159.159695     0.425291   \n",
            "std    1272.154339     4.161819        1334.998877   316.032952     6.453773   \n",
            "min      -0.179522     0.000000           0.000000  -342.198605   -23.562965   \n",
            "25%     131.945762     4.157298         191.685944     6.803021    -2.339228   \n",
            "50%     887.976049     7.044580        1084.711233    70.070597     1.930152   \n",
            "75%    2413.847412    10.135154        2818.334982   185.948800     4.733412   \n",
            "max    3604.410034    23.746877        3600.000000  3239.191602    15.928531   \n",
            "\n",
            "             y_com          T_1  \n",
            "count  8759.000000  8759.000000  \n",
            "mean      2.132712  1317.887059  \n",
            "std       5.098658  1272.117264  \n",
            "min     -14.872894    -0.179522  \n",
            "25%      -1.661516   131.945762  \n",
            "50%       2.376810   887.463231  \n",
            "75%       5.838316  2412.657420  \n",
            "max      15.552038  3604.410034  \n"
          ]
        }
      ],
      "source": [
        "print(df.info())\n",
        "print()\n",
        "print(df.describe())"
      ]
    },
    {
      "cell_type": "code",
      "execution_count": 46,
      "metadata": {
        "id": "-a_LLjsTI_v6"
      },
      "outputs": [],
      "source": [
        "#split data into training and testing, testing data will be one month\n",
        "start_test = '2018-11-31'\n",
        "\n",
        "train, test = df.loc[:start_test], df.loc[start_test:]"
      ]
    },
    {
      "cell_type": "code",
      "execution_count": 47,
      "metadata": {
        "colab": {
          "base_uri": "https://localhost:8080/",
          "height": 112
        },
        "id": "AOky-SN3I_v7",
        "outputId": "e30aeb40-8801-4a09-b434-992301a3088d"
      },
      "outputs": [
        {
          "output_type": "execute_result",
          "data": {
            "text/plain": [
              "                         Power  Wind_speed  Theoretical_power        Loss  \\\n",
              "Date/Time                                                                   \n",
              "2018-11-30 23:00:00  87.315742    5.643659         516.885226  429.569483   \n",
              "\n",
              "                        x_com     y_com         T_1  \n",
              "Date/Time                                            \n",
              "2018-11-30 23:00:00  3.995407  3.978305  231.796605  "
            ],
            "text/html": [
              "\n",
              "  <div id=\"df-2e9bb928-884f-49d3-91fb-7036ff03e95d\" class=\"colab-df-container\">\n",
              "    <div>\n",
              "<style scoped>\n",
              "    .dataframe tbody tr th:only-of-type {\n",
              "        vertical-align: middle;\n",
              "    }\n",
              "\n",
              "    .dataframe tbody tr th {\n",
              "        vertical-align: top;\n",
              "    }\n",
              "\n",
              "    .dataframe thead th {\n",
              "        text-align: right;\n",
              "    }\n",
              "</style>\n",
              "<table border=\"1\" class=\"dataframe\">\n",
              "  <thead>\n",
              "    <tr style=\"text-align: right;\">\n",
              "      <th></th>\n",
              "      <th>Power</th>\n",
              "      <th>Wind_speed</th>\n",
              "      <th>Theoretical_power</th>\n",
              "      <th>Loss</th>\n",
              "      <th>x_com</th>\n",
              "      <th>y_com</th>\n",
              "      <th>T_1</th>\n",
              "    </tr>\n",
              "    <tr>\n",
              "      <th>Date/Time</th>\n",
              "      <th></th>\n",
              "      <th></th>\n",
              "      <th></th>\n",
              "      <th></th>\n",
              "      <th></th>\n",
              "      <th></th>\n",
              "      <th></th>\n",
              "    </tr>\n",
              "  </thead>\n",
              "  <tbody>\n",
              "    <tr>\n",
              "      <th>2018-11-30 23:00:00</th>\n",
              "      <td>87.315742</td>\n",
              "      <td>5.643659</td>\n",
              "      <td>516.885226</td>\n",
              "      <td>429.569483</td>\n",
              "      <td>3.995407</td>\n",
              "      <td>3.978305</td>\n",
              "      <td>231.796605</td>\n",
              "    </tr>\n",
              "  </tbody>\n",
              "</table>\n",
              "</div>\n",
              "    <div class=\"colab-df-buttons\">\n",
              "\n",
              "  <div class=\"colab-df-container\">\n",
              "    <button class=\"colab-df-convert\" onclick=\"convertToInteractive('df-2e9bb928-884f-49d3-91fb-7036ff03e95d')\"\n",
              "            title=\"Convert this dataframe to an interactive table.\"\n",
              "            style=\"display:none;\">\n",
              "\n",
              "  <svg xmlns=\"http://www.w3.org/2000/svg\" height=\"24px\" viewBox=\"0 -960 960 960\">\n",
              "    <path d=\"M120-120v-720h720v720H120Zm60-500h600v-160H180v160Zm220 220h160v-160H400v160Zm0 220h160v-160H400v160ZM180-400h160v-160H180v160Zm440 0h160v-160H620v160ZM180-180h160v-160H180v160Zm440 0h160v-160H620v160Z\"/>\n",
              "  </svg>\n",
              "    </button>\n",
              "\n",
              "  <style>\n",
              "    .colab-df-container {\n",
              "      display:flex;\n",
              "      gap: 12px;\n",
              "    }\n",
              "\n",
              "    .colab-df-convert {\n",
              "      background-color: #E8F0FE;\n",
              "      border: none;\n",
              "      border-radius: 50%;\n",
              "      cursor: pointer;\n",
              "      display: none;\n",
              "      fill: #1967D2;\n",
              "      height: 32px;\n",
              "      padding: 0 0 0 0;\n",
              "      width: 32px;\n",
              "    }\n",
              "\n",
              "    .colab-df-convert:hover {\n",
              "      background-color: #E2EBFA;\n",
              "      box-shadow: 0px 1px 2px rgba(60, 64, 67, 0.3), 0px 1px 3px 1px rgba(60, 64, 67, 0.15);\n",
              "      fill: #174EA6;\n",
              "    }\n",
              "\n",
              "    .colab-df-buttons div {\n",
              "      margin-bottom: 4px;\n",
              "    }\n",
              "\n",
              "    [theme=dark] .colab-df-convert {\n",
              "      background-color: #3B4455;\n",
              "      fill: #D2E3FC;\n",
              "    }\n",
              "\n",
              "    [theme=dark] .colab-df-convert:hover {\n",
              "      background-color: #434B5C;\n",
              "      box-shadow: 0px 1px 3px 1px rgba(0, 0, 0, 0.15);\n",
              "      filter: drop-shadow(0px 1px 2px rgba(0, 0, 0, 0.3));\n",
              "      fill: #FFFFFF;\n",
              "    }\n",
              "  </style>\n",
              "\n",
              "    <script>\n",
              "      const buttonEl =\n",
              "        document.querySelector('#df-2e9bb928-884f-49d3-91fb-7036ff03e95d button.colab-df-convert');\n",
              "      buttonEl.style.display =\n",
              "        google.colab.kernel.accessAllowed ? 'block' : 'none';\n",
              "\n",
              "      async function convertToInteractive(key) {\n",
              "        const element = document.querySelector('#df-2e9bb928-884f-49d3-91fb-7036ff03e95d');\n",
              "        const dataTable =\n",
              "          await google.colab.kernel.invokeFunction('convertToInteractive',\n",
              "                                                    [key], {});\n",
              "        if (!dataTable) return;\n",
              "\n",
              "        const docLinkHtml = 'Like what you see? Visit the ' +\n",
              "          '<a target=\"_blank\" href=https://colab.research.google.com/notebooks/data_table.ipynb>data table notebook</a>'\n",
              "          + ' to learn more about interactive tables.';\n",
              "        element.innerHTML = '';\n",
              "        dataTable['output_type'] = 'display_data';\n",
              "        await google.colab.output.renderOutput(dataTable, element);\n",
              "        const docLink = document.createElement('div');\n",
              "        docLink.innerHTML = docLinkHtml;\n",
              "        element.appendChild(docLink);\n",
              "      }\n",
              "    </script>\n",
              "  </div>\n",
              "\n",
              "    </div>\n",
              "  </div>\n"
            ]
          },
          "metadata": {},
          "execution_count": 47
        }
      ],
      "source": [
        "train.tail(1)"
      ]
    },
    {
      "cell_type": "code",
      "execution_count": 48,
      "metadata": {
        "colab": {
          "base_uri": "https://localhost:8080/",
          "height": 112
        },
        "id": "bLpKxi65I_v8",
        "outputId": "3ad8e310-38d7-4121-c281-66836b5b053e"
      },
      "outputs": [
        {
          "output_type": "execute_result",
          "data": {
            "text/plain": [
              "                          Power  Wind_speed  Theoretical_power      Loss  \\\n",
              "Date/Time                                                                  \n",
              "2018-12-01 00:00:00  280.210704     4.57214         281.809039  1.598335   \n",
              "\n",
              "                        x_com     y_com        T_1  \n",
              "Date/Time                                           \n",
              "2018-12-01 00:00:00 -2.893603 -3.518642  87.315742  "
            ],
            "text/html": [
              "\n",
              "  <div id=\"df-e94e2a10-24d3-474b-9a23-6be2702d2539\" class=\"colab-df-container\">\n",
              "    <div>\n",
              "<style scoped>\n",
              "    .dataframe tbody tr th:only-of-type {\n",
              "        vertical-align: middle;\n",
              "    }\n",
              "\n",
              "    .dataframe tbody tr th {\n",
              "        vertical-align: top;\n",
              "    }\n",
              "\n",
              "    .dataframe thead th {\n",
              "        text-align: right;\n",
              "    }\n",
              "</style>\n",
              "<table border=\"1\" class=\"dataframe\">\n",
              "  <thead>\n",
              "    <tr style=\"text-align: right;\">\n",
              "      <th></th>\n",
              "      <th>Power</th>\n",
              "      <th>Wind_speed</th>\n",
              "      <th>Theoretical_power</th>\n",
              "      <th>Loss</th>\n",
              "      <th>x_com</th>\n",
              "      <th>y_com</th>\n",
              "      <th>T_1</th>\n",
              "    </tr>\n",
              "    <tr>\n",
              "      <th>Date/Time</th>\n",
              "      <th></th>\n",
              "      <th></th>\n",
              "      <th></th>\n",
              "      <th></th>\n",
              "      <th></th>\n",
              "      <th></th>\n",
              "      <th></th>\n",
              "    </tr>\n",
              "  </thead>\n",
              "  <tbody>\n",
              "    <tr>\n",
              "      <th>2018-12-01 00:00:00</th>\n",
              "      <td>280.210704</td>\n",
              "      <td>4.57214</td>\n",
              "      <td>281.809039</td>\n",
              "      <td>1.598335</td>\n",
              "      <td>-2.893603</td>\n",
              "      <td>-3.518642</td>\n",
              "      <td>87.315742</td>\n",
              "    </tr>\n",
              "  </tbody>\n",
              "</table>\n",
              "</div>\n",
              "    <div class=\"colab-df-buttons\">\n",
              "\n",
              "  <div class=\"colab-df-container\">\n",
              "    <button class=\"colab-df-convert\" onclick=\"convertToInteractive('df-e94e2a10-24d3-474b-9a23-6be2702d2539')\"\n",
              "            title=\"Convert this dataframe to an interactive table.\"\n",
              "            style=\"display:none;\">\n",
              "\n",
              "  <svg xmlns=\"http://www.w3.org/2000/svg\" height=\"24px\" viewBox=\"0 -960 960 960\">\n",
              "    <path d=\"M120-120v-720h720v720H120Zm60-500h600v-160H180v160Zm220 220h160v-160H400v160Zm0 220h160v-160H400v160ZM180-400h160v-160H180v160Zm440 0h160v-160H620v160ZM180-180h160v-160H180v160Zm440 0h160v-160H620v160Z\"/>\n",
              "  </svg>\n",
              "    </button>\n",
              "\n",
              "  <style>\n",
              "    .colab-df-container {\n",
              "      display:flex;\n",
              "      gap: 12px;\n",
              "    }\n",
              "\n",
              "    .colab-df-convert {\n",
              "      background-color: #E8F0FE;\n",
              "      border: none;\n",
              "      border-radius: 50%;\n",
              "      cursor: pointer;\n",
              "      display: none;\n",
              "      fill: #1967D2;\n",
              "      height: 32px;\n",
              "      padding: 0 0 0 0;\n",
              "      width: 32px;\n",
              "    }\n",
              "\n",
              "    .colab-df-convert:hover {\n",
              "      background-color: #E2EBFA;\n",
              "      box-shadow: 0px 1px 2px rgba(60, 64, 67, 0.3), 0px 1px 3px 1px rgba(60, 64, 67, 0.15);\n",
              "      fill: #174EA6;\n",
              "    }\n",
              "\n",
              "    .colab-df-buttons div {\n",
              "      margin-bottom: 4px;\n",
              "    }\n",
              "\n",
              "    [theme=dark] .colab-df-convert {\n",
              "      background-color: #3B4455;\n",
              "      fill: #D2E3FC;\n",
              "    }\n",
              "\n",
              "    [theme=dark] .colab-df-convert:hover {\n",
              "      background-color: #434B5C;\n",
              "      box-shadow: 0px 1px 3px 1px rgba(0, 0, 0, 0.15);\n",
              "      filter: drop-shadow(0px 1px 2px rgba(0, 0, 0, 0.3));\n",
              "      fill: #FFFFFF;\n",
              "    }\n",
              "  </style>\n",
              "\n",
              "    <script>\n",
              "      const buttonEl =\n",
              "        document.querySelector('#df-e94e2a10-24d3-474b-9a23-6be2702d2539 button.colab-df-convert');\n",
              "      buttonEl.style.display =\n",
              "        google.colab.kernel.accessAllowed ? 'block' : 'none';\n",
              "\n",
              "      async function convertToInteractive(key) {\n",
              "        const element = document.querySelector('#df-e94e2a10-24d3-474b-9a23-6be2702d2539');\n",
              "        const dataTable =\n",
              "          await google.colab.kernel.invokeFunction('convertToInteractive',\n",
              "                                                    [key], {});\n",
              "        if (!dataTable) return;\n",
              "\n",
              "        const docLinkHtml = 'Like what you see? Visit the ' +\n",
              "          '<a target=\"_blank\" href=https://colab.research.google.com/notebooks/data_table.ipynb>data table notebook</a>'\n",
              "          + ' to learn more about interactive tables.';\n",
              "        element.innerHTML = '';\n",
              "        dataTable['output_type'] = 'display_data';\n",
              "        await google.colab.output.renderOutput(dataTable, element);\n",
              "        const docLink = document.createElement('div');\n",
              "        docLink.innerHTML = docLinkHtml;\n",
              "        element.appendChild(docLink);\n",
              "      }\n",
              "    </script>\n",
              "  </div>\n",
              "\n",
              "    </div>\n",
              "  </div>\n"
            ]
          },
          "metadata": {},
          "execution_count": 48
        }
      ],
      "source": [
        "test.head(1)"
      ]
    },
    {
      "cell_type": "code",
      "execution_count": 49,
      "metadata": {
        "colab": {
          "base_uri": "https://localhost:8080/"
        },
        "id": "lXZnM5EqI_v-",
        "outputId": "1e257dfd-b080-45fd-8a70-a4a888b3e913"
      },
      "outputs": [
        {
          "output_type": "stream",
          "name": "stdout",
          "text": [
            "8015\n",
            "744\n"
          ]
        }
      ],
      "source": [
        "print(len(train))\n",
        "print(len(test))"
      ]
    },
    {
      "cell_type": "code",
      "execution_count": 50,
      "metadata": {
        "id": "wQGD_5h3I_v-"
      },
      "outputs": [],
      "source": [
        "# scale the data using MinMax Scaler from -1 to 1 as LSTM & GRU has a default tanh activation function\n",
        "SCALER = MinMaxScaler(feature_range=(-1,1))\n",
        "\n",
        "scaler = SCALER.fit(train.to_numpy())\n",
        "\n",
        "train_scaled = scaler.transform(train.to_numpy())\n",
        "test_scaled = scaler.transform(test.to_numpy())"
      ]
    },
    {
      "cell_type": "code",
      "execution_count": 51,
      "metadata": {
        "id": "Puc4daWoI_v_"
      },
      "outputs": [],
      "source": [
        "# create a function to split the datasets into two week windows\n",
        "timestep = 24*7*2 # 24hours,7days,2weeks\n",
        "\n",
        "def create_dataset(dataset, timestep=timestep):\n",
        "    \"\"\"\n",
        "    Function which creates two week chunks of x_train data, and a single\n",
        "    value for y_train.\n",
        "    \"\"\"\n",
        "    X, y = [], []\n",
        "    for i in range(len(dataset)):\n",
        "        target_value = i + timestep\n",
        "        if target_value == len(dataset):\n",
        "            break\n",
        "        feature_chunk, target = dataset[i:target_value, 1:], dataset[target_value, 0]\n",
        "        X.append(feature_chunk)\n",
        "        y.append(target)\n",
        "\n",
        "    return np.array(X), np.array(y)"
      ]
    },
    {
      "cell_type": "code",
      "execution_count": 52,
      "metadata": {
        "id": "f-yBJ8sCI_v_"
      },
      "outputs": [],
      "source": [
        "#create x_train, y_train, X_test,y_test\n",
        "X_train, y_train = create_dataset(train_scaled)\n",
        "X_test, y_test = create_dataset(test_scaled)"
      ]
    },
    {
      "cell_type": "code",
      "execution_count": 53,
      "metadata": {
        "colab": {
          "base_uri": "https://localhost:8080/"
        },
        "id": "gBvPR0qaI_wA",
        "outputId": "59a2c9e1-ceb3-4295-f58e-b42cabc73e62"
      },
      "outputs": [
        {
          "output_type": "stream",
          "name": "stdout",
          "text": [
            "(7679, 336, 6)\n",
            "(7679,)\n",
            "(408, 336, 6)\n",
            "(408,)\n"
          ]
        }
      ],
      "source": [
        "print(X_train.shape)\n",
        "print(y_train.shape)\n",
        "print(X_test.shape)\n",
        "print(y_test.shape)"
      ]
    },
    {
      "cell_type": "code",
      "execution_count": 54,
      "metadata": {
        "id": "A4eyoHP0I_wB"
      },
      "outputs": [],
      "source": [
        "# use sample of th data to train network to have a rough understanding of hyperparameters\n",
        "samp_len = int(len(X_train)*0.5)\n",
        "\n",
        "X_sample_train, y_sample_train = X_train[:samp_len], y_train[:samp_len]"
      ]
    },
    {
      "cell_type": "code",
      "execution_count": 55,
      "metadata": {
        "colab": {
          "base_uri": "https://localhost:8080/"
        },
        "id": "gVQ0FcXHI_wB",
        "outputId": "a7779e0e-2ac6-45a4-cb52-4e8112aa5eb9"
      },
      "outputs": [
        {
          "output_type": "stream",
          "name": "stdout",
          "text": [
            "(3839, 336, 6)\n",
            "(3839,)\n"
          ]
        }
      ],
      "source": [
        "print(X_sample_train.shape)\n",
        "print(y_sample_train.shape)"
      ]
    },
    {
      "cell_type": "code",
      "execution_count": 56,
      "metadata": {
        "id": "ewGKAiX_I_wB"
      },
      "outputs": [],
      "source": [
        "# create X_train, y_train, X_test, y_test datasets\n",
        "# create a function to build a stacked GRU model\n",
        "# input needs to be [samples, timesteps, features]\n",
        "def create_model(X_train, y_train):\n",
        "    units = 32\n",
        "    dropout = 0.05\n",
        "    epochs = 35\n",
        "    batch_size = 14\n",
        "    optimizer = keras.optimizers.Adam(learning_rate=0.0005)\n",
        "    early_stopping = EarlyStopping(patience=7, monitor='loss')\n",
        "\n",
        "    model = keras.Sequential()\n",
        "\n",
        "    #model.add(LSTM(units=units, dropout=dropout, return_sequences=True, input_shape=(X_train.shape[1], X_train.shape[2])))\n",
        "\n",
        "    #model.add(LSTM(units=units, dropout=dropout))\n",
        "\n",
        "    model.add(GRU(units=units))\n",
        "\n",
        "    model.add(Dense(units=1))\n",
        "\n",
        "    model.compile(optimizer=optimizer, loss='mean_squared_error')\n",
        "    history = model.fit(X_train, y_train, validation_split=0.3, shuffle=False,\n",
        "              epochs=epochs, batch_size=batch_size, verbose=1, callbacks=[early_stopping])\n",
        "\n",
        "    return model, history"
      ]
    },
    {
      "cell_type": "code",
      "execution_count": 57,
      "metadata": {
        "id": "nBXLvFQlI_wC"
      },
      "outputs": [],
      "source": [
        "# function to predict a single value\n",
        "def single_prediction(model, history, timestep=timestep):\n",
        "\n",
        "        history = np.array(history)\n",
        "        history = history.reshape(history.shape[0]*history.shape[1], history.shape[2])\n",
        "\n",
        "        input_value = history[-timestep:]\n",
        "        input_value = input_value.reshape(1, input_value.shape[0], input_value.shape[1])\n",
        "\n",
        "        yhat = model.predict(input_value, verbose=0)\n",
        "        return yhat"
      ]
    },
    {
      "cell_type": "code",
      "execution_count": 58,
      "metadata": {
        "id": "foLOWvbPI_wC"
      },
      "outputs": [],
      "source": [
        "# function which takes first test chunk, makes a prediction, add the test chunk back into training data\n",
        "#to make next prediction\n",
        "\n",
        "def walk_forward_prediction(X_train, y_train, X_test, timestep):\n",
        "\n",
        "    MODEL, history = create_model(X_train=X_train, y_train=y_train)\n",
        "    hist_train = [i for i in X_train]\n",
        "    predictions = []\n",
        "\n",
        "    for i in range(len(X_test)):\n",
        "        test = X_test[i]\n",
        "        yhat = single_prediction(model=MODEL, history=hist_train, timestep=timestep)\n",
        "        predictions.append(yhat)\n",
        "        hist_train.append(test)\n",
        "\n",
        "    return predictions, history, MODEL"
      ]
    },
    {
      "cell_type": "code",
      "execution_count": 59,
      "metadata": {
        "id": "_W07VraBI_wC"
      },
      "outputs": [],
      "source": [
        "def prior_inverse(features, targets):\n",
        "    '''\n",
        "    Append prediction value to test dataset and return a test shape format.\n",
        "    '''\n",
        "    dataset = []\n",
        "\n",
        "    for i in range(features.shape[0]):\n",
        "        last_row, target = features[i][0], targets[i]\n",
        "        appended = np.append(last_row, target)\n",
        "        dataset.append(appended)\n",
        "\n",
        "    return np.array(dataset)"
      ]
    },
    {
      "cell_type": "code",
      "execution_count": 60,
      "metadata": {
        "scrolled": true,
        "id": "QOAWxRIKI_wD"
      },
      "outputs": [],
      "source": [
        "#run experiemnt returning the real, predicted values\n",
        "def experiment(X_train, y_train, X_test, timestep):\n",
        "\n",
        "    pred_seq, history, MODEL = walk_forward_prediction(X_train, y_train, X_test, timestep)\n",
        "\n",
        "    pred_seq = np.array(pred_seq).reshape(-1)\n",
        "\n",
        "    pred = prior_inverse(X_test, pred_seq)\n",
        "    real = prior_inverse(X_test, y_test)\n",
        "\n",
        "    inv_pred = scaler.inverse_transform(pred)\n",
        "    inv_real = scaler.inverse_transform(real)\n",
        "\n",
        "    power_pred = inv_pred[:,-1]\n",
        "    power_real = inv_real[:,-1]\n",
        "\n",
        "    return power_real, power_pred, history, MODEL"
      ]
    },
    {
      "cell_type": "code",
      "execution_count": 61,
      "metadata": {
        "scrolled": true,
        "colab": {
          "base_uri": "https://localhost:8080/"
        },
        "id": "UF28GZy8I_wD",
        "outputId": "53c99943-e7d4-4062-860f-9c7f27a3e2fb"
      },
      "outputs": [
        {
          "output_type": "stream",
          "name": "stdout",
          "text": [
            "Epoch 1/35\n",
            "384/384 [==============================] - 67s 166ms/step - loss: 0.2080 - val_loss: 0.1002\n",
            "Epoch 2/35\n",
            "384/384 [==============================] - 60s 157ms/step - loss: 0.0896 - val_loss: 0.0776\n",
            "Epoch 3/35\n",
            "384/384 [==============================] - 62s 162ms/step - loss: 0.0762 - val_loss: 0.0686\n",
            "Epoch 4/35\n",
            "384/384 [==============================] - 56s 146ms/step - loss: 0.0688 - val_loss: 0.0642\n",
            "Epoch 5/35\n",
            "384/384 [==============================] - 59s 155ms/step - loss: 0.0647 - val_loss: 0.0625\n",
            "Epoch 6/35\n",
            "384/384 [==============================] - 60s 155ms/step - loss: 0.0627 - val_loss: 0.0620\n",
            "Epoch 7/35\n",
            "384/384 [==============================] - 58s 152ms/step - loss: 0.0618 - val_loss: 0.0618\n",
            "Epoch 8/35\n",
            "384/384 [==============================] - 60s 155ms/step - loss: 0.0613 - val_loss: 0.0617\n",
            "Epoch 9/35\n",
            "384/384 [==============================] - 58s 151ms/step - loss: 0.0610 - val_loss: 0.0617\n",
            "Epoch 10/35\n",
            "384/384 [==============================] - 57s 149ms/step - loss: 0.0608 - val_loss: 0.0616\n",
            "Epoch 11/35\n",
            "384/384 [==============================] - 56s 146ms/step - loss: 0.0606 - val_loss: 0.0615\n",
            "Epoch 12/35\n",
            "384/384 [==============================] - 55s 142ms/step - loss: 0.0604 - val_loss: 0.0614\n",
            "Epoch 13/35\n",
            "384/384 [==============================] - 57s 149ms/step - loss: 0.0603 - val_loss: 0.0613\n",
            "Epoch 14/35\n",
            "384/384 [==============================] - 55s 144ms/step - loss: 0.0601 - val_loss: 0.0612\n",
            "Epoch 15/35\n",
            "384/384 [==============================] - 59s 154ms/step - loss: 0.0600 - val_loss: 0.0611\n",
            "Epoch 16/35\n",
            "384/384 [==============================] - 60s 155ms/step - loss: 0.0599 - val_loss: 0.0610\n",
            "Epoch 17/35\n",
            "384/384 [==============================] - 58s 150ms/step - loss: 0.0598 - val_loss: 0.0609\n",
            "Epoch 18/35\n",
            "384/384 [==============================] - 55s 144ms/step - loss: 0.0597 - val_loss: 0.0608\n",
            "Epoch 19/35\n",
            "384/384 [==============================] - 57s 147ms/step - loss: 0.0596 - val_loss: 0.0607\n",
            "Epoch 20/35\n",
            "384/384 [==============================] - 58s 151ms/step - loss: 0.0595 - val_loss: 0.0606\n",
            "Epoch 21/35\n",
            "384/384 [==============================] - 58s 150ms/step - loss: 0.0594 - val_loss: 0.0604\n",
            "Epoch 22/35\n",
            "384/384 [==============================] - 56s 147ms/step - loss: 0.0593 - val_loss: 0.0603\n",
            "Epoch 23/35\n",
            "384/384 [==============================] - 57s 149ms/step - loss: 0.0593 - val_loss: 0.0602\n",
            "Epoch 24/35\n",
            "384/384 [==============================] - 57s 149ms/step - loss: 0.0592 - val_loss: 0.0601\n",
            "Epoch 25/35\n",
            "384/384 [==============================] - 56s 146ms/step - loss: 0.0591 - val_loss: 0.0600\n",
            "Epoch 26/35\n",
            "384/384 [==============================] - 57s 148ms/step - loss: 0.0590 - val_loss: 0.0599\n",
            "Epoch 27/35\n",
            "384/384 [==============================] - 62s 163ms/step - loss: 0.0590 - val_loss: 0.0599\n",
            "Epoch 28/35\n",
            "384/384 [==============================] - 58s 151ms/step - loss: 0.0589 - val_loss: 0.0598\n",
            "Epoch 29/35\n",
            "384/384 [==============================] - 54s 140ms/step - loss: 0.0589 - val_loss: 0.0597\n",
            "Epoch 30/35\n",
            "384/384 [==============================] - 53s 137ms/step - loss: 0.0588 - val_loss: 0.0597\n",
            "Epoch 31/35\n",
            "384/384 [==============================] - 53s 137ms/step - loss: 0.0587 - val_loss: 0.0596\n",
            "Epoch 32/35\n",
            "384/384 [==============================] - 53s 139ms/step - loss: 0.0587 - val_loss: 0.0596\n",
            "Epoch 33/35\n",
            "384/384 [==============================] - 53s 137ms/step - loss: 0.0586 - val_loss: 0.0595\n",
            "Epoch 34/35\n",
            "384/384 [==============================] - 54s 141ms/step - loss: 0.0586 - val_loss: 0.0595\n",
            "Epoch 35/35\n",
            "384/384 [==============================] - 53s 139ms/step - loss: 0.0585 - val_loss: 0.0594\n"
          ]
        }
      ],
      "source": [
        "power_real, power_pred, history, MODEL = experiment(X_train, y_train, X_test, timestep)\n",
        "\n",
        "loss = history.history['loss']\n",
        "val_loss = history.history['val_loss']"
      ]
    },
    {
      "cell_type": "code",
      "execution_count": 62,
      "metadata": {
        "colab": {
          "base_uri": "https://localhost:8080/",
          "height": 507
        },
        "id": "rSNsCegqI_wE",
        "outputId": "7d849ca5-60c4-4061-9f7a-5924dd558b7e"
      },
      "outputs": [
        {
          "output_type": "display_data",
          "data": {
            "text/plain": [
              "<Figure size 1000x500 with 1 Axes>"
            ],
            "image/png": "[encoded data removed]"
          },
          "metadata": {}
        }
      ],
      "source": [
        "#plot validation and training convergence graph\n",
        "plt.figure(figsize=(10,5))\n",
        "plt.plot(loss, label='train')\n",
        "plt.plot(val_loss, label='validation')\n",
        "plt.legend()\n",
        "plt.xlabel('epochs')\n",
        "plt.ylabel('MSE')\n",
        "plt.title('GRU Training Validation Loss')\n",
        "plt.tight_layout()\n",
        "plt.savefig('figures/GRU_train_val_plot.png')\n",
        "plt.show()"
      ]
    },
    {
      "cell_type": "code",
      "execution_count": 63,
      "metadata": {
        "id": "Nd7WUKh3I_wF"
      },
      "outputs": [],
      "source": [
        "x_plot = test[timestep:].index\n",
        "pred_df = pd.DataFrame({'Date':x_plot, 'Prediction': power_pred, 'True': power_real})\n",
        "pred_df.set_index('Date', inplace=True)"
      ]
    },
    {
      "cell_type": "code",
      "execution_count": 64,
      "metadata": {
        "id": "gJN3CuSPI_wF"
      },
      "outputs": [],
      "source": [
        "pred_df2 = pred_df['2018-12-15 01:00:00\t':'2018-12-29 02:00:00 ']"
      ]
    },
    {
      "cell_type": "code",
      "execution_count": 65,
      "metadata": {
        "colab": {
          "base_uri": "https://localhost:8080/",
          "height": 507
        },
        "id": "WooL7izkI_wF",
        "outputId": "bac94794-1d63-40c3-daf8-dbea566ce5d4"
      },
      "outputs": [
        {
          "output_type": "display_data",
          "data": {
            "text/plain": [
              "<Figure size 1000x500 with 1 Axes>"
            ],
            "image/png": "[encoded data removed]"
          },
          "metadata": {}
        }
      ],
      "source": [
        "#plot predictions\n",
        "pred_df2.plot(figsize=(10,5))\n",
        "plt.title('Predicted Power vs Actual Power with GRU an Model.')\n",
        "plt.ylabel('Power(KWh)')\n",
        "plt.tight_layout()\n",
        "plt.savefig('figures/GRU_prediction.png')\n",
        "plt.show()"
      ]
    },
    {
      "cell_type": "code",
      "execution_count": 66,
      "metadata": {
        "colab": {
          "base_uri": "https://localhost:8080/"
        },
        "id": "MPW7iJRaI_wG",
        "outputId": "19e12c82-09c3-46bb-93c8-0e88819212e9"
      },
      "outputs": [
        {
          "metadata": {
            "tags": null
          },
          "name": "stdout",
          "output_type": "stream",
          "text": [
            "RMSE: 466.85\n",
            "MAE: 287.71\n",
            "R2: 0.88\n"
          ]
        }
      ],
      "source": [
        "#compute metrics\n",
        "rmse = np.sqrt(mean_squared_error(pred_df2['True'], pred_df2['Prediction']))\n",
        "mae = mean_absolute_error(pred_df2['True'], pred_df2['Prediction'])\n",
        "r2 = r2_score(pred_df2['True'], pred_df2['Prediction'])\n",
        "print('RMSE: {}\\nMAE: {}\\nR2: {}'.format(round(rmse,2),round(mae,2), round(r2,2)))"
      ]
    }
  ],
  "metadata": {
    "kernelspec": {
      "display_name": "Python 3",
      "language": "python",
      "name": "python3"
    },
    "language_info": {
      "codemirror_mode": {
        "name": "ipython",
        "version": 3
      },
      "file_extension": ".py",
      "mimetype": "text/x-python",
      "name": "python",
      "nbconvert_exporter": "python",
      "pygments_lexer": "ipython3",
      "version": "3.6.12"
    },
    "colab": {
      "provenance": []
    }
  },
  "nbformat": 4,
  "nbformat_minor": 0
}